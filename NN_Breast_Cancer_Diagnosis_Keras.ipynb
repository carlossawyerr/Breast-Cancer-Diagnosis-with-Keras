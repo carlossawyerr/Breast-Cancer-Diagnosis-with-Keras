{
  "nbformat": 4,
  "nbformat_minor": 0,
  "metadata": {
    "colab": {
      "name": "NN_Breast_Cancer_Diagnosis_Keras.ipynb",
      "version": "0.3.2",
      "provenance": [],
      "include_colab_link": true
    },
    "kernelspec": {
      "name": "python3",
      "display_name": "Python 3"
    }
  },
  "cells": [
    {
      "cell_type": "markdown",
      "metadata": {
        "id": "view-in-github",
        "colab_type": "text"
      },
      "source": [
        "<a href=\"https://colab.research.google.com/github/carlossawyerr/Breast-Cancer-Diagnosis-with-Keras/blob/master/NN_Breast_Cancer_Diagnosis_Keras.ipynb\" target=\"_parent\"><img src=\"https://colab.research.google.com/assets/colab-badge.svg\" alt=\"Open In Colab\"/></a>"
      ]
    },
    {
      "metadata": {
        "id": "IC5Upgnikul6",
        "colab_type": "code",
        "colab": {}
      },
      "cell_type": "code",
      "source": [
        "#Imports\n",
        "import pandas as pd\n",
        "from sklearn.preprocessing import MinMaxScaler"
      ],
      "execution_count": 0,
      "outputs": []
    },
    {
      "metadata": {
        "id": "t2FxCFFRkxeH",
        "colab_type": "code",
        "colab": {
          "base_uri": "https://localhost:8080/",
          "height": 119
        },
        "outputId": "6c32b376-fdc3-47b2-8b7a-a56b876e663d"
      },
      "cell_type": "code",
      "source": [
        "#Grab dataset \n",
        "!git clone https://github.com/javismiles/Deep-Learning-predicting-breast-cancer-tumor-malignancy.git"
      ],
      "execution_count": 4,
      "outputs": [
        {
          "output_type": "stream",
          "text": [
            "Cloning into 'Deep-Learning-predicting-breast-cancer-tumor-malignancy'...\n",
            "remote: Enumerating objects: 3, done.\u001b[K\n",
            "remote: Counting objects: 100% (3/3), done.\u001b[K\n",
            "remote: Compressing objects: 100% (3/3), done.\u001b[K\n",
            "remote: Total 99 (delta 0), reused 0 (delta 0), pack-reused 96\u001b[K\n",
            "Unpacking objects: 100% (99/99), done.\n"
          ],
          "name": "stdout"
        }
      ]
    },
    {
      "metadata": {
        "id": "X6cAvmGLlLtP",
        "colab_type": "code",
        "colab": {
          "base_uri": "https://localhost:8080/",
          "height": 34
        },
        "outputId": "44c593ed-3238-49dd-94ba-ceb52744005e"
      },
      "cell_type": "code",
      "source": [
        "cd Deep-Learning-predicting-breast-cancer-tumor-malignancy/"
      ],
      "execution_count": 10,
      "outputs": [
        {
          "output_type": "stream",
          "text": [
            "/content/Deep-Learning-predicting-breast-cancer-tumor-malignancy\n"
          ],
          "name": "stdout"
        }
      ]
    },
    {
      "metadata": {
        "id": "QMZbH2r7lVwy",
        "colab_type": "code",
        "colab": {
          "base_uri": "https://localhost:8080/",
          "height": 51
        },
        "outputId": "7a91c89a-8c5e-4199-8c96-309ab83e3573"
      },
      "cell_type": "code",
      "source": [
        "ls"
      ],
      "execution_count": 11,
      "outputs": [
        {
          "output_type": "stream",
          "text": [
            "environment.yml  LICENSE          README.md\n",
            "\u001b[0m\u001b[01;34mimages\u001b[0m/          nn-2l-raw.ipynb  wisconsin-cancer-dataset.csv\n"
          ],
          "name": "stdout"
        }
      ]
    },
    {
      "metadata": {
        "id": "Tylb_3AilXya",
        "colab_type": "code",
        "colab": {}
      },
      "cell_type": "code",
      "source": [
        "\n",
        "#Create dataframe\n",
        "df = pd.read_csv('wisconsin-cancer-dataset.csv', header=None)"
      ],
      "execution_count": 0,
      "outputs": []
    },
    {
      "metadata": {
        "id": "5gTUO_sdlj9P",
        "colab_type": "code",
        "colab": {
          "base_uri": "https://localhost:8080/",
          "height": 204
        },
        "outputId": "4db94ca9-fc8d-4f99-da41-1665078b2d5c"
      },
      "cell_type": "code",
      "source": [
        "# Columns : Clump Thickness, Uniformity of Cell Size, Uniformity of Cell Shape, Marginal Adhesion, Single Epithelial Cell Size, Bare Nuclei, Bland Chromatin, Normal Nucleoli and Mitoses.\n",
        "#Last column : 2 for benign, 4 for \n",
        "df.head()"
      ],
      "execution_count": 124,
      "outputs": [
        {
          "output_type": "execute_result",
          "data": {
            "text/html": [
              "<div>\n",
              "<style scoped>\n",
              "    .dataframe tbody tr th:only-of-type {\n",
              "        vertical-align: middle;\n",
              "    }\n",
              "\n",
              "    .dataframe tbody tr th {\n",
              "        vertical-align: top;\n",
              "    }\n",
              "\n",
              "    .dataframe thead th {\n",
              "        text-align: right;\n",
              "    }\n",
              "</style>\n",
              "<table border=\"1\" class=\"dataframe\">\n",
              "  <thead>\n",
              "    <tr style=\"text-align: right;\">\n",
              "      <th></th>\n",
              "      <th>0</th>\n",
              "      <th>1</th>\n",
              "      <th>2</th>\n",
              "      <th>3</th>\n",
              "      <th>4</th>\n",
              "      <th>5</th>\n",
              "      <th>6</th>\n",
              "      <th>7</th>\n",
              "      <th>8</th>\n",
              "      <th>9</th>\n",
              "      <th>10</th>\n",
              "    </tr>\n",
              "  </thead>\n",
              "  <tbody>\n",
              "    <tr>\n",
              "      <th>0</th>\n",
              "      <td>1000025.0</td>\n",
              "      <td>5.0</td>\n",
              "      <td>1.0</td>\n",
              "      <td>1.0</td>\n",
              "      <td>1.0</td>\n",
              "      <td>2.0</td>\n",
              "      <td>1.0</td>\n",
              "      <td>3.0</td>\n",
              "      <td>1.0</td>\n",
              "      <td>1.0</td>\n",
              "      <td>0.0</td>\n",
              "    </tr>\n",
              "    <tr>\n",
              "      <th>1</th>\n",
              "      <td>1002945.0</td>\n",
              "      <td>5.0</td>\n",
              "      <td>4.0</td>\n",
              "      <td>4.0</td>\n",
              "      <td>5.0</td>\n",
              "      <td>7.0</td>\n",
              "      <td>10.0</td>\n",
              "      <td>3.0</td>\n",
              "      <td>2.0</td>\n",
              "      <td>1.0</td>\n",
              "      <td>0.0</td>\n",
              "    </tr>\n",
              "    <tr>\n",
              "      <th>2</th>\n",
              "      <td>1015425.0</td>\n",
              "      <td>3.0</td>\n",
              "      <td>1.0</td>\n",
              "      <td>1.0</td>\n",
              "      <td>1.0</td>\n",
              "      <td>2.0</td>\n",
              "      <td>2.0</td>\n",
              "      <td>3.0</td>\n",
              "      <td>1.0</td>\n",
              "      <td>1.0</td>\n",
              "      <td>0.0</td>\n",
              "    </tr>\n",
              "    <tr>\n",
              "      <th>3</th>\n",
              "      <td>1016277.0</td>\n",
              "      <td>6.0</td>\n",
              "      <td>8.0</td>\n",
              "      <td>8.0</td>\n",
              "      <td>1.0</td>\n",
              "      <td>3.0</td>\n",
              "      <td>4.0</td>\n",
              "      <td>3.0</td>\n",
              "      <td>7.0</td>\n",
              "      <td>1.0</td>\n",
              "      <td>0.0</td>\n",
              "    </tr>\n",
              "    <tr>\n",
              "      <th>4</th>\n",
              "      <td>1017023.0</td>\n",
              "      <td>4.0</td>\n",
              "      <td>1.0</td>\n",
              "      <td>1.0</td>\n",
              "      <td>3.0</td>\n",
              "      <td>2.0</td>\n",
              "      <td>1.0</td>\n",
              "      <td>3.0</td>\n",
              "      <td>1.0</td>\n",
              "      <td>1.0</td>\n",
              "      <td>0.0</td>\n",
              "    </tr>\n",
              "  </tbody>\n",
              "</table>\n",
              "</div>"
            ],
            "text/plain": [
              "          0    1    2    3    4    5     6    7    8    9    10\n",
              "0  1000025.0  5.0  1.0  1.0  1.0  2.0   1.0  3.0  1.0  1.0  0.0\n",
              "1  1002945.0  5.0  4.0  4.0  5.0  7.0  10.0  3.0  2.0  1.0  0.0\n",
              "2  1015425.0  3.0  1.0  1.0  1.0  2.0   2.0  3.0  1.0  1.0  0.0\n",
              "3  1016277.0  6.0  8.0  8.0  1.0  3.0   4.0  3.0  7.0  1.0  0.0\n",
              "4  1017023.0  4.0  1.0  1.0  3.0  2.0   1.0  3.0  1.0  1.0  0.0"
            ]
          },
          "metadata": {
            "tags": []
          },
          "execution_count": 124
        }
      ]
    },
    {
      "metadata": {
        "id": "BryNiK6alkn3",
        "colab_type": "code",
        "colab": {}
      },
      "cell_type": "code",
      "source": [
        "#Normalize Labels\n",
        "df.loc[:,10].replace(2,0, inplace=True)\n",
        "df.loc[:,10].replace(4,1, inplace=True)"
      ],
      "execution_count": 0,
      "outputs": []
    },
    {
      "metadata": {
        "id": "TeO8Q5-ks8xS",
        "colab_type": "code",
        "colab": {}
      },
      "cell_type": "code",
      "source": [
        "df = df[~df[6].isin(['?'])]"
      ],
      "execution_count": 0,
      "outputs": []
    },
    {
      "metadata": {
        "id": "f7Arz2TMtxN-",
        "colab_type": "code",
        "colab": {
          "base_uri": "https://localhost:8080/",
          "height": 34
        },
        "outputId": "a50fa510-ab57-4c03-8596-d738eab753f1"
      },
      "cell_type": "code",
      "source": [
        "sorted(df[1].unique())\n"
      ],
      "execution_count": 61,
      "outputs": [
        {
          "output_type": "execute_result",
          "data": {
            "text/plain": [
              "[1, 2, 3, 4, 5, 6, 7, 8, 9, 10]"
            ]
          },
          "metadata": {
            "tags": []
          },
          "execution_count": 61
        }
      ]
    },
    {
      "metadata": {
        "id": "aVHEvwwtt4Kt",
        "colab_type": "code",
        "colab": {}
      },
      "cell_type": "code",
      "source": [
        "df = df.astype('float')"
      ],
      "execution_count": 0,
      "outputs": []
    },
    {
      "metadata": {
        "id": "x72Mzacrun4j",
        "colab_type": "code",
        "colab": {}
      },
      "cell_type": "code",
      "source": [
        "names = df.columns[1:10]"
      ],
      "execution_count": 0,
      "outputs": []
    },
    {
      "metadata": {
        "id": "ebFv72JLvXvd",
        "colab_type": "code",
        "colab": {}
      },
      "cell_type": "code",
      "source": [
        "# MINMAX NORMALIZATION : new_x= (x- min_x)/(max_x- min_x)\n",
        "names = df.columns[0:10]\n",
        "scalar = MinMaxScaler()\n",
        "scaled_df = scalar.fit_transform(df.iloc[:,0:10])\n",
        "scaled_df = pd.DataFrame(scaled_df, columns=names)"
      ],
      "execution_count": 0,
      "outputs": []
    },
    {
      "metadata": {
        "id": "yJciOPbHviO8",
        "colab_type": "code",
        "colab": {
          "base_uri": "https://localhost:8080/",
          "height": 204
        },
        "outputId": "20c36742-22e8-4847-f45c-aa15e13ac2fd"
      },
      "cell_type": "code",
      "source": [
        "scaled_df.head()\n"
      ],
      "execution_count": 125,
      "outputs": [
        {
          "output_type": "execute_result",
          "data": {
            "text/html": [
              "<div>\n",
              "<style scoped>\n",
              "    .dataframe tbody tr th:only-of-type {\n",
              "        vertical-align: middle;\n",
              "    }\n",
              "\n",
              "    .dataframe tbody tr th {\n",
              "        vertical-align: top;\n",
              "    }\n",
              "\n",
              "    .dataframe thead th {\n",
              "        text-align: right;\n",
              "    }\n",
              "</style>\n",
              "<table border=\"1\" class=\"dataframe\">\n",
              "  <thead>\n",
              "    <tr style=\"text-align: right;\">\n",
              "      <th></th>\n",
              "      <th>0</th>\n",
              "      <th>1</th>\n",
              "      <th>2</th>\n",
              "      <th>3</th>\n",
              "      <th>4</th>\n",
              "      <th>5</th>\n",
              "      <th>6</th>\n",
              "      <th>7</th>\n",
              "      <th>8</th>\n",
              "      <th>9</th>\n",
              "    </tr>\n",
              "  </thead>\n",
              "  <tbody>\n",
              "    <tr>\n",
              "      <th>0</th>\n",
              "      <td>0.069946</td>\n",
              "      <td>0.444444</td>\n",
              "      <td>0.000000</td>\n",
              "      <td>0.000000</td>\n",
              "      <td>0.000000</td>\n",
              "      <td>0.111111</td>\n",
              "      <td>0.000000</td>\n",
              "      <td>0.222222</td>\n",
              "      <td>0.000000</td>\n",
              "      <td>0.0</td>\n",
              "    </tr>\n",
              "    <tr>\n",
              "      <th>1</th>\n",
              "      <td>0.070164</td>\n",
              "      <td>0.444444</td>\n",
              "      <td>0.333333</td>\n",
              "      <td>0.333333</td>\n",
              "      <td>0.444444</td>\n",
              "      <td>0.666667</td>\n",
              "      <td>1.000000</td>\n",
              "      <td>0.222222</td>\n",
              "      <td>0.111111</td>\n",
              "      <td>0.0</td>\n",
              "    </tr>\n",
              "    <tr>\n",
              "      <th>2</th>\n",
              "      <td>0.071096</td>\n",
              "      <td>0.222222</td>\n",
              "      <td>0.000000</td>\n",
              "      <td>0.000000</td>\n",
              "      <td>0.000000</td>\n",
              "      <td>0.111111</td>\n",
              "      <td>0.111111</td>\n",
              "      <td>0.222222</td>\n",
              "      <td>0.000000</td>\n",
              "      <td>0.0</td>\n",
              "    </tr>\n",
              "    <tr>\n",
              "      <th>3</th>\n",
              "      <td>0.071160</td>\n",
              "      <td>0.555556</td>\n",
              "      <td>0.777778</td>\n",
              "      <td>0.777778</td>\n",
              "      <td>0.000000</td>\n",
              "      <td>0.222222</td>\n",
              "      <td>0.333333</td>\n",
              "      <td>0.222222</td>\n",
              "      <td>0.666667</td>\n",
              "      <td>0.0</td>\n",
              "    </tr>\n",
              "    <tr>\n",
              "      <th>4</th>\n",
              "      <td>0.071216</td>\n",
              "      <td>0.333333</td>\n",
              "      <td>0.000000</td>\n",
              "      <td>0.000000</td>\n",
              "      <td>0.222222</td>\n",
              "      <td>0.111111</td>\n",
              "      <td>0.000000</td>\n",
              "      <td>0.222222</td>\n",
              "      <td>0.000000</td>\n",
              "      <td>0.0</td>\n",
              "    </tr>\n",
              "  </tbody>\n",
              "</table>\n",
              "</div>"
            ],
            "text/plain": [
              "          0         1         2         3         4         5         6  \\\n",
              "0  0.069946  0.444444  0.000000  0.000000  0.000000  0.111111  0.000000   \n",
              "1  0.070164  0.444444  0.333333  0.333333  0.444444  0.666667  1.000000   \n",
              "2  0.071096  0.222222  0.000000  0.000000  0.000000  0.111111  0.111111   \n",
              "3  0.071160  0.555556  0.777778  0.777778  0.000000  0.222222  0.333333   \n",
              "4  0.071216  0.333333  0.000000  0.000000  0.222222  0.111111  0.000000   \n",
              "\n",
              "          7         8    9  \n",
              "0  0.222222  0.000000  0.0  \n",
              "1  0.222222  0.111111  0.0  \n",
              "2  0.222222  0.000000  0.0  \n",
              "3  0.222222  0.666667  0.0  \n",
              "4  0.222222  0.000000  0.0  "
            ]
          },
          "metadata": {
            "tags": []
          },
          "execution_count": 125
        }
      ]
    },
    {
      "metadata": {
        "id": "7w3qJgPzxvMo",
        "colab_type": "code",
        "colab": {
          "base_uri": "https://localhost:8080/",
          "height": 695
        },
        "outputId": "cd060024-430c-4911-f8ce-d85ad5120147"
      },
      "cell_type": "code",
      "source": [
        "scaled_df[10]= df[10]\n",
        "scaled_df.iloc[0:13,1:11].plot.bar();\n",
        "scaled_df.iloc[0:13,1:11].plot.hist(alpha=0.5)"
      ],
      "execution_count": 81,
      "outputs": [
        {
          "output_type": "execute_result",
          "data": {
            "text/plain": [
              "<matplotlib.axes._subplots.AxesSubplot at 0x7f8ace17f0b8>"
            ]
          },
          "metadata": {
            "tags": []
          },
          "execution_count": 81
        },
        {
          "output_type": "display_data",
          "data": {
            "image/png": "[encoded data removed]",
            "text/plain": [
              "<Figure size 576x396 with 1 Axes>"
            ]
          },
          "metadata": {
            "tags": []
          }
        },
        {
          "output_type": "display_data",
          "data": {
            "image/png": "[encoded data removed]",
            "text/plain": [
              "<Figure size 576x396 with 1 Axes>"
            ]
          },
          "metadata": {
            "tags": []
          }
        }
      ]
    },
    {
      "metadata": {
        "id": "z1PCDgZ_2S13",
        "colab_type": "code",
        "colab": {}
      },
      "cell_type": "code",
      "source": [
        "x=scaled_df.iloc[0:500,1:10]\n",
        "y=df.iloc[0:500,10:]\n",
        "xval=scaled_df.iloc[501:683,1:10]\n",
        "yval=df.iloc[501:683,10:]"
      ],
      "execution_count": 0,
      "outputs": []
    },
    {
      "metadata": {
        "id": "KXdwFR-y5DoW",
        "colab_type": "code",
        "colab": {}
      },
      "cell_type": "code",
      "source": [
        "from keras import Sequential\n",
        "from keras.layers import Conv2D, MaxPooling2D, Flatten, Dropout, Dense"
      ],
      "execution_count": 0,
      "outputs": []
    },
    {
      "metadata": {
        "id": "lTVw9QT495IF",
        "colab_type": "code",
        "colab": {}
      },
      "cell_type": "code",
      "source": [
        "# create model\n",
        "model = Sequential()\n",
        "model.add(Dense(18, input_dim=9, activation='relu'))\n",
        "model.add(Dense(32, activation='relu'))\n",
        "model.add(Dense(1, activation='sigmoid'))"
      ],
      "execution_count": 0,
      "outputs": []
    },
    {
      "metadata": {
        "id": "fF6f4CXI-Odz",
        "colab_type": "code",
        "colab": {}
      },
      "cell_type": "code",
      "source": [
        "model.compile(loss='binary_crossentropy', optimizer = 'adam', metrics=['accuracy'])"
      ],
      "execution_count": 0,
      "outputs": []
    },
    {
      "metadata": {
        "id": "xvucdzNQCfWG",
        "colab_type": "code",
        "colab": {
          "base_uri": "https://localhost:8080/",
          "height": 34
        },
        "outputId": "d74e1569-48f3-45a3-c6be-8b5affc8a3e2"
      },
      "cell_type": "code",
      "source": [
        "x.shape"
      ],
      "execution_count": 113,
      "outputs": [
        {
          "output_type": "execute_result",
          "data": {
            "text/plain": [
              "(500, 9)"
            ]
          },
          "metadata": {
            "tags": []
          },
          "execution_count": 113
        }
      ]
    },
    {
      "metadata": {
        "id": "ffE54BZL_50C",
        "colab_type": "code",
        "colab": {
          "base_uri": "https://localhost:8080/",
          "height": 3434
        },
        "outputId": "8a4b3b1c-8fcb-40af-e52a-df1a25b8f755"
      },
      "cell_type": "code",
      "source": [
        "\n",
        "model.fit(x, y, epochs=100, batch_size=12 )"
      ],
      "execution_count": 121,
      "outputs": [
        {
          "output_type": "stream",
          "text": [
            "Epoch 1/100\n",
            "500/500 [==============================] - 0s 101us/step - loss: 0.0736 - acc: 0.9740\n",
            "Epoch 2/100\n",
            "500/500 [==============================] - 0s 91us/step - loss: 0.0762 - acc: 0.9720\n",
            "Epoch 3/100\n",
            "500/500 [==============================] - 0s 89us/step - loss: 0.0734 - acc: 0.9760\n",
            "Epoch 4/100\n",
            "500/500 [==============================] - 0s 98us/step - loss: 0.0729 - acc: 0.9760\n",
            "Epoch 5/100\n",
            "500/500 [==============================] - 0s 99us/step - loss: 0.0724 - acc: 0.9760\n",
            "Epoch 6/100\n",
            "500/500 [==============================] - 0s 93us/step - loss: 0.0717 - acc: 0.9780\n",
            "Epoch 7/100\n",
            "500/500 [==============================] - 0s 99us/step - loss: 0.0721 - acc: 0.9760\n",
            "Epoch 8/100\n",
            "500/500 [==============================] - 0s 96us/step - loss: 0.0724 - acc: 0.9740\n",
            "Epoch 9/100\n",
            "500/500 [==============================] - 0s 94us/step - loss: 0.0720 - acc: 0.9760\n",
            "Epoch 10/100\n",
            "500/500 [==============================] - 0s 91us/step - loss: 0.0717 - acc: 0.9760\n",
            "Epoch 11/100\n",
            "500/500 [==============================] - 0s 95us/step - loss: 0.0704 - acc: 0.9760\n",
            "Epoch 12/100\n",
            "500/500 [==============================] - 0s 101us/step - loss: 0.0702 - acc: 0.9760\n",
            "Epoch 13/100\n",
            "500/500 [==============================] - 0s 99us/step - loss: 0.0704 - acc: 0.9760\n",
            "Epoch 14/100\n",
            "500/500 [==============================] - 0s 93us/step - loss: 0.0695 - acc: 0.9760\n",
            "Epoch 15/100\n",
            "500/500 [==============================] - 0s 98us/step - loss: 0.0696 - acc: 0.9780\n",
            "Epoch 16/100\n",
            "500/500 [==============================] - 0s 96us/step - loss: 0.0690 - acc: 0.9760\n",
            "Epoch 17/100\n",
            "500/500 [==============================] - 0s 88us/step - loss: 0.0689 - acc: 0.9740\n",
            "Epoch 18/100\n",
            "500/500 [==============================] - 0s 91us/step - loss: 0.0685 - acc: 0.9760\n",
            "Epoch 19/100\n",
            "500/500 [==============================] - 0s 100us/step - loss: 0.0695 - acc: 0.9760\n",
            "Epoch 20/100\n",
            "500/500 [==============================] - 0s 91us/step - loss: 0.0685 - acc: 0.9760\n",
            "Epoch 21/100\n",
            "500/500 [==============================] - 0s 93us/step - loss: 0.0685 - acc: 0.9780\n",
            "Epoch 22/100\n",
            "500/500 [==============================] - 0s 92us/step - loss: 0.0671 - acc: 0.9780\n",
            "Epoch 23/100\n",
            "500/500 [==============================] - 0s 100us/step - loss: 0.0677 - acc: 0.9760\n",
            "Epoch 24/100\n",
            "500/500 [==============================] - 0s 92us/step - loss: 0.0672 - acc: 0.9780\n",
            "Epoch 25/100\n",
            "500/500 [==============================] - 0s 91us/step - loss: 0.0663 - acc: 0.9760\n",
            "Epoch 26/100\n",
            "500/500 [==============================] - 0s 91us/step - loss: 0.0680 - acc: 0.9780\n",
            "Epoch 27/100\n",
            "500/500 [==============================] - 0s 95us/step - loss: 0.0672 - acc: 0.9740\n",
            "Epoch 28/100\n",
            "500/500 [==============================] - 0s 91us/step - loss: 0.0656 - acc: 0.9780\n",
            "Epoch 29/100\n",
            "500/500 [==============================] - 0s 107us/step - loss: 0.0649 - acc: 0.9780\n",
            "Epoch 30/100\n",
            "500/500 [==============================] - 0s 94us/step - loss: 0.0652 - acc: 0.9780\n",
            "Epoch 31/100\n",
            "500/500 [==============================] - 0s 99us/step - loss: 0.0653 - acc: 0.9780\n",
            "Epoch 32/100\n",
            "500/500 [==============================] - 0s 97us/step - loss: 0.0647 - acc: 0.9780\n",
            "Epoch 33/100\n",
            "500/500 [==============================] - 0s 92us/step - loss: 0.0649 - acc: 0.9780\n",
            "Epoch 34/100\n",
            "500/500 [==============================] - 0s 104us/step - loss: 0.0650 - acc: 0.9780\n",
            "Epoch 35/100\n",
            "500/500 [==============================] - 0s 101us/step - loss: 0.0637 - acc: 0.9780\n",
            "Epoch 36/100\n",
            "500/500 [==============================] - 0s 98us/step - loss: 0.0649 - acc: 0.9780\n",
            "Epoch 37/100\n",
            "500/500 [==============================] - 0s 99us/step - loss: 0.0647 - acc: 0.9760\n",
            "Epoch 38/100\n",
            "500/500 [==============================] - 0s 94us/step - loss: 0.0624 - acc: 0.9760\n",
            "Epoch 39/100\n",
            "500/500 [==============================] - 0s 101us/step - loss: 0.0654 - acc: 0.9760\n",
            "Epoch 40/100\n",
            "500/500 [==============================] - 0s 94us/step - loss: 0.0641 - acc: 0.9780\n",
            "Epoch 41/100\n",
            "500/500 [==============================] - 0s 90us/step - loss: 0.0615 - acc: 0.9760\n",
            "Epoch 42/100\n",
            "500/500 [==============================] - 0s 93us/step - loss: 0.0613 - acc: 0.9780\n",
            "Epoch 43/100\n",
            "500/500 [==============================] - 0s 84us/step - loss: 0.0612 - acc: 0.9800\n",
            "Epoch 44/100\n",
            "500/500 [==============================] - 0s 95us/step - loss: 0.0602 - acc: 0.9760\n",
            "Epoch 45/100\n",
            "500/500 [==============================] - 0s 88us/step - loss: 0.0607 - acc: 0.9780\n",
            "Epoch 46/100\n",
            "500/500 [==============================] - 0s 91us/step - loss: 0.0597 - acc: 0.9780\n",
            "Epoch 47/100\n",
            "500/500 [==============================] - 0s 89us/step - loss: 0.0600 - acc: 0.9780\n",
            "Epoch 48/100\n",
            "500/500 [==============================] - 0s 88us/step - loss: 0.0601 - acc: 0.9780\n",
            "Epoch 49/100\n",
            "500/500 [==============================] - 0s 91us/step - loss: 0.0590 - acc: 0.9800\n",
            "Epoch 50/100\n",
            "500/500 [==============================] - 0s 95us/step - loss: 0.0580 - acc: 0.9820\n",
            "Epoch 51/100\n",
            "500/500 [==============================] - 0s 91us/step - loss: 0.0581 - acc: 0.9780\n",
            "Epoch 52/100\n",
            "500/500 [==============================] - 0s 96us/step - loss: 0.0576 - acc: 0.9780\n",
            "Epoch 53/100\n",
            "500/500 [==============================] - 0s 90us/step - loss: 0.0575 - acc: 0.9780\n",
            "Epoch 54/100\n",
            "500/500 [==============================] - 0s 93us/step - loss: 0.0583 - acc: 0.9780\n",
            "Epoch 55/100\n",
            "500/500 [==============================] - 0s 93us/step - loss: 0.0570 - acc: 0.9760\n",
            "Epoch 56/100\n",
            "500/500 [==============================] - 0s 96us/step - loss: 0.0571 - acc: 0.9800\n",
            "Epoch 57/100\n",
            "500/500 [==============================] - 0s 91us/step - loss: 0.0572 - acc: 0.9820\n",
            "Epoch 58/100\n",
            "500/500 [==============================] - 0s 92us/step - loss: 0.0562 - acc: 0.9780\n",
            "Epoch 59/100\n",
            "500/500 [==============================] - 0s 86us/step - loss: 0.0565 - acc: 0.9780\n",
            "Epoch 60/100\n",
            "500/500 [==============================] - 0s 92us/step - loss: 0.0561 - acc: 0.9820\n",
            "Epoch 61/100\n",
            "500/500 [==============================] - 0s 95us/step - loss: 0.0551 - acc: 0.9800\n",
            "Epoch 62/100\n",
            "500/500 [==============================] - 0s 90us/step - loss: 0.0562 - acc: 0.9820\n",
            "Epoch 63/100\n",
            "500/500 [==============================] - 0s 86us/step - loss: 0.0562 - acc: 0.9800\n",
            "Epoch 64/100\n",
            "500/500 [==============================] - 0s 92us/step - loss: 0.0538 - acc: 0.9800\n",
            "Epoch 65/100\n",
            "500/500 [==============================] - 0s 91us/step - loss: 0.0546 - acc: 0.9820\n",
            "Epoch 66/100\n",
            "500/500 [==============================] - 0s 87us/step - loss: 0.0539 - acc: 0.9780\n",
            "Epoch 67/100\n",
            "500/500 [==============================] - 0s 97us/step - loss: 0.0530 - acc: 0.9800\n",
            "Epoch 68/100\n",
            "500/500 [==============================] - 0s 92us/step - loss: 0.0542 - acc: 0.9760\n",
            "Epoch 69/100\n",
            "500/500 [==============================] - 0s 89us/step - loss: 0.0526 - acc: 0.9800\n",
            "Epoch 70/100\n",
            "500/500 [==============================] - 0s 91us/step - loss: 0.0521 - acc: 0.9820\n",
            "Epoch 71/100\n",
            "500/500 [==============================] - 0s 110us/step - loss: 0.0520 - acc: 0.9820\n",
            "Epoch 72/100\n",
            "500/500 [==============================] - 0s 90us/step - loss: 0.0516 - acc: 0.9820\n",
            "Epoch 73/100\n",
            "500/500 [==============================] - 0s 101us/step - loss: 0.0504 - acc: 0.9820\n",
            "Epoch 74/100\n",
            "500/500 [==============================] - 0s 95us/step - loss: 0.0494 - acc: 0.9800\n",
            "Epoch 75/100\n",
            "500/500 [==============================] - 0s 97us/step - loss: 0.0490 - acc: 0.9820\n",
            "Epoch 76/100\n",
            "500/500 [==============================] - 0s 94us/step - loss: 0.0489 - acc: 0.9800\n",
            "Epoch 77/100\n",
            "500/500 [==============================] - 0s 95us/step - loss: 0.0506 - acc: 0.9780\n",
            "Epoch 78/100\n",
            "500/500 [==============================] - 0s 99us/step - loss: 0.0495 - acc: 0.9800\n",
            "Epoch 79/100\n",
            "500/500 [==============================] - 0s 95us/step - loss: 0.0491 - acc: 0.9800\n",
            "Epoch 80/100\n",
            "500/500 [==============================] - 0s 99us/step - loss: 0.0472 - acc: 0.9820\n",
            "Epoch 81/100\n",
            "500/500 [==============================] - 0s 94us/step - loss: 0.0466 - acc: 0.9820\n",
            "Epoch 82/100\n",
            "500/500 [==============================] - 0s 102us/step - loss: 0.0472 - acc: 0.9820\n",
            "Epoch 83/100\n",
            "500/500 [==============================] - 0s 95us/step - loss: 0.0467 - acc: 0.9820\n",
            "Epoch 84/100\n",
            "500/500 [==============================] - 0s 100us/step - loss: 0.0470 - acc: 0.9820\n",
            "Epoch 85/100\n",
            "500/500 [==============================] - 0s 86us/step - loss: 0.0468 - acc: 0.9820\n",
            "Epoch 86/100\n",
            "500/500 [==============================] - 0s 92us/step - loss: 0.0457 - acc: 0.9800\n",
            "Epoch 87/100\n",
            "500/500 [==============================] - 0s 96us/step - loss: 0.0448 - acc: 0.9820\n",
            "Epoch 88/100\n",
            "500/500 [==============================] - 0s 94us/step - loss: 0.0453 - acc: 0.9840\n",
            "Epoch 89/100\n",
            "500/500 [==============================] - 0s 92us/step - loss: 0.0478 - acc: 0.9820\n",
            "Epoch 90/100\n",
            "500/500 [==============================] - 0s 92us/step - loss: 0.0441 - acc: 0.9860\n",
            "Epoch 91/100\n",
            "500/500 [==============================] - 0s 90us/step - loss: 0.0438 - acc: 0.9820\n",
            "Epoch 92/100\n",
            "500/500 [==============================] - 0s 90us/step - loss: 0.0429 - acc: 0.9840\n",
            "Epoch 93/100\n",
            "500/500 [==============================] - 0s 91us/step - loss: 0.0427 - acc: 0.9860\n",
            "Epoch 94/100\n",
            "500/500 [==============================] - 0s 90us/step - loss: 0.0442 - acc: 0.9820\n",
            "Epoch 95/100\n",
            "500/500 [==============================] - 0s 93us/step - loss: 0.0455 - acc: 0.9820\n",
            "Epoch 96/100\n",
            "500/500 [==============================] - 0s 93us/step - loss: 0.0423 - acc: 0.9860\n",
            "Epoch 97/100\n",
            "500/500 [==============================] - 0s 92us/step - loss: 0.0410 - acc: 0.9860\n",
            "Epoch 98/100\n",
            "500/500 [==============================] - 0s 93us/step - loss: 0.0419 - acc: 0.9840\n",
            "Epoch 99/100\n",
            "500/500 [==============================] - 0s 95us/step - loss: 0.0419 - acc: 0.9860\n",
            "Epoch 100/100\n",
            "500/500 [==============================] - 0s 95us/step - loss: 0.0414 - acc: 0.9860\n"
          ],
          "name": "stdout"
        },
        {
          "output_type": "execute_result",
          "data": {
            "text/plain": [
              "<keras.callbacks.History at 0x7f8abb208588>"
            ]
          },
          "metadata": {
            "tags": []
          },
          "execution_count": 121
        }
      ]
    },
    {
      "metadata": {
        "id": "X9mQSJG5Auml",
        "colab_type": "code",
        "colab": {
          "base_uri": "https://localhost:8080/",
          "height": 51
        },
        "outputId": "9a3f7f27-3fff-4098-c2a6-df485940e172"
      },
      "cell_type": "code",
      "source": [
        "model.evaluate(xval, yval)"
      ],
      "execution_count": 123,
      "outputs": [
        {
          "output_type": "stream",
          "text": [
            "182/182 [==============================] - 0s 267us/step\n"
          ],
          "name": "stdout"
        },
        {
          "output_type": "execute_result",
          "data": {
            "text/plain": [
              "[0.018667056255943174, 1.0]"
            ]
          },
          "metadata": {
            "tags": []
          },
          "execution_count": 123
        }
      ]
    },
    {
      "metadata": {
        "id": "W4HIe7YBECQu",
        "colab_type": "code",
        "colab": {}
      },
      "cell_type": "code",
      "source": [
        ""
      ],
      "execution_count": 0,
      "outputs": []
    }
  ]
}